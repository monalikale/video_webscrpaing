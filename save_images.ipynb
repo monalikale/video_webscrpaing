{
 "cells": [
  {
   "cell_type": "code",
   "execution_count": 6,
   "id": "52367cb8",
   "metadata": {},
   "outputs": [],
   "source": [
    "import requests\n",
    "import os\n",
    "class Unsplash:\n",
    "    def __init__(self,search_term,per_page=20,quality=\"thumb\"):\n",
    "        self.search_term = search_term\n",
    "        self.per_page = per_page\n",
    "        self.page = 0\n",
    "        self.quality = quality\n",
    "        self.headers = {\n",
    "            \"Accept\":\"text/html,application/xhtml+xml,application/xml;q=0.9,image/webp,*/*;q=0.8\",\n",
    "            \"Accept-Encoding\":\"gzip, deflate, br\",\n",
    "            \"Accept-Language\":\"en-US,en;q=0.5\",\n",
    "            \"Host\":\"unsplash.com\",\n",
    "            \"User-Agent\":\"Mozilla/5.0 (Windows NT 10.0; Win64; x64; rv:80.0) Gecko/20100101 Firefox/80.0\"\n",
    "        }\n",
    "\n",
    "    def set_url(self):\n",
    "        return f\"https://unsplash.com/napi/search/photos?query={self.search_term}&xp=&per_page={self.per_page}&page={self.page}\"\n",
    "\n",
    "    def make_request(self):\n",
    "        url = self.set_url()\n",
    "        return requests.request(\"GET\",url,headers=self.headers)\n",
    "\n",
    "    def get_data(self):\n",
    "        self.data = self.make_request().json()\n",
    "\n",
    "    def save_path(self,name):\n",
    "        download_dir = \"unsplash\"\n",
    "        if not os.path.exists(download_dir):\n",
    "            os.mkdir(download_dir)\n",
    "        return f\"{os.path.join(os.path.realpath(os.getcwd()),download_dir,name)}.jpeg\"\n",
    "\n",
    "    def download(self,url,name):\n",
    "        filepath = self.save_path(name)\n",
    "        with open(filepath,\"wb\") as f:\n",
    "            f.write(requests.request(\"GET\",url,headers=self.headers).content)\n",
    "\n",
    "    def Scrapper(self,pages):\n",
    "        for page in range(0,pages+1):\n",
    "            self.make_request()\n",
    "            self.get_data()\n",
    "            for item in self.data['results']:\n",
    "                name = item['id']\n",
    "                url = item['urls'][self.quality]\n",
    "                self.download(url,name)\n",
    "            self.page += 1\n",
    "\n",
    "if __name__ == \"__main__\":\n",
    "    scrapper = Unsplash(\"kids\")\n",
    "    scrapper.Scrapper(1)\n"
   ]
  },
  {
   "cell_type": "code",
   "execution_count": null,
   "id": "90fdb59f",
   "metadata": {},
   "outputs": [],
   "source": []
  }
 ],
 "metadata": {
  "kernelspec": {
   "display_name": "Python 3 (ipykernel)",
   "language": "python",
   "name": "python3"
  },
  "language_info": {
   "codemirror_mode": {
    "name": "ipython",
    "version": 3
   },
   "file_extension": ".py",
   "mimetype": "text/x-python",
   "name": "python",
   "nbconvert_exporter": "python",
   "pygments_lexer": "ipython3",
   "version": "3.11.5"
  }
 },
 "nbformat": 4,
 "nbformat_minor": 5
}
